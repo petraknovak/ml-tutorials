{
 "cells": [
  {
   "cell_type": "markdown",
   "metadata": {},
   "source": [
    " # A basic matrix factorization-based recommender system"
   ]
  },
  {
   "cell_type": "markdown",
   "metadata": {},
   "source": [
    "1. Performs Singular Value Decomposition (SVD) on the user-item matrix.\n",
    "2. Selects the top k singular values and vectors to approximate the matrix.\n",
    "3. Approximates the user-item matrix using the reduced SVD matrices.\n",
    "4. Recommends items for a specific user (in this case, John) by comparing his original ratings with the recommended ratings based on the approximation."
   ]
  },
  {
   "cell_type": "markdown",
   "metadata": {},
   "source": [
    "## 0. Prerequisites"
   ]
  },
  {
   "cell_type": "code",
   "execution_count": 18,
   "metadata": {},
   "outputs": [],
   "source": [
    "import numpy as np\n",
    "import pandas as pd\n",
    "\n",
    "pd.set_option('display.float_format', lambda x: '%.2f' % x)  # Display numbers as decimals instead of scientific value"
   ]
  },
  {
   "cell_type": "markdown",
   "metadata": {},
   "source": [
    "## 1. Load the data"
   ]
  },
  {
   "cell_type": "code",
   "execution_count": 4,
   "metadata": {},
   "outputs": [],
   "source": [
    "# Define the user-item matrix (ratings)\n",
    "user_item_matrix = np.array([\n",
    "    [5, 0, 0, 0, 4, 0, 0],  # John\n",
    "    [0, 4, 0, 0, 0, 5, 0],  # Alice\n",
    "    [0, 0, 5, 0, 0, 0, 0],  # Sarah\n",
    "    [0, 0, 0, 4, 0, 0, 3],  # Tom\n",
    "    [3, 0, 0, 3, 5, 4, 4]   # Emma\n",
    "])\n",
    "\n",
    "\n",
    "# List of users\n",
    "users = [\"John\", \"Alice\", \"Sarah\", \"Tom\", \"Emma\"]\n",
    "# List of items\n",
    "items = [\"Terminator\", \"Alien\", \"Titanic\", \"The Notebook\", \"The Avengers\", \"The Godfather\", \"Jurassic Park\"]"
   ]
  },
  {
   "cell_type": "markdown",
   "metadata": {},
   "source": [
    "Visualize the data"
   ]
  },
  {
   "cell_type": "code",
   "execution_count": 20,
   "metadata": {},
   "outputs": [
    {
     "data": {
      "text/html": [
       "<div>\n",
       "<style scoped>\n",
       "    .dataframe tbody tr th:only-of-type {\n",
       "        vertical-align: middle;\n",
       "    }\n",
       "\n",
       "    .dataframe tbody tr th {\n",
       "        vertical-align: top;\n",
       "    }\n",
       "\n",
       "    .dataframe thead th {\n",
       "        text-align: right;\n",
       "    }\n",
       "</style>\n",
       "<table border=\"1\" class=\"dataframe\">\n",
       "  <thead>\n",
       "    <tr style=\"text-align: right;\">\n",
       "      <th></th>\n",
       "      <th>Terminator</th>\n",
       "      <th>Alien</th>\n",
       "      <th>Titanic</th>\n",
       "      <th>The Notebook</th>\n",
       "      <th>The Avengers</th>\n",
       "      <th>The Godfather</th>\n",
       "      <th>Jurassic Park</th>\n",
       "    </tr>\n",
       "  </thead>\n",
       "  <tbody>\n",
       "    <tr>\n",
       "      <th>John</th>\n",
       "      <td>5</td>\n",
       "      <td>0</td>\n",
       "      <td>0</td>\n",
       "      <td>0</td>\n",
       "      <td>4</td>\n",
       "      <td>0</td>\n",
       "      <td>0</td>\n",
       "    </tr>\n",
       "    <tr>\n",
       "      <th>Alice</th>\n",
       "      <td>0</td>\n",
       "      <td>4</td>\n",
       "      <td>0</td>\n",
       "      <td>0</td>\n",
       "      <td>0</td>\n",
       "      <td>5</td>\n",
       "      <td>0</td>\n",
       "    </tr>\n",
       "    <tr>\n",
       "      <th>Sarah</th>\n",
       "      <td>0</td>\n",
       "      <td>0</td>\n",
       "      <td>5</td>\n",
       "      <td>0</td>\n",
       "      <td>0</td>\n",
       "      <td>0</td>\n",
       "      <td>0</td>\n",
       "    </tr>\n",
       "    <tr>\n",
       "      <th>Tom</th>\n",
       "      <td>0</td>\n",
       "      <td>0</td>\n",
       "      <td>0</td>\n",
       "      <td>4</td>\n",
       "      <td>0</td>\n",
       "      <td>0</td>\n",
       "      <td>3</td>\n",
       "    </tr>\n",
       "    <tr>\n",
       "      <th>Emma</th>\n",
       "      <td>3</td>\n",
       "      <td>0</td>\n",
       "      <td>0</td>\n",
       "      <td>3</td>\n",
       "      <td>5</td>\n",
       "      <td>4</td>\n",
       "      <td>4</td>\n",
       "    </tr>\n",
       "  </tbody>\n",
       "</table>\n",
       "</div>"
      ],
      "text/plain": [
       "       Terminator  Alien  Titanic  The Notebook  The Avengers  The Godfather  \\\n",
       "John            5      0        0             0             4              0   \n",
       "Alice           0      4        0             0             0              5   \n",
       "Sarah           0      0        5             0             0              0   \n",
       "Tom             0      0        0             4             0              0   \n",
       "Emma            3      0        0             3             5              4   \n",
       "\n",
       "       Jurassic Park  \n",
       "John               0  \n",
       "Alice              0  \n",
       "Sarah              0  \n",
       "Tom                3  \n",
       "Emma               4  "
      ]
     },
     "execution_count": 20,
     "metadata": {},
     "output_type": "execute_result"
    }
   ],
   "source": [
    "def user_item_matrix_as_df(user_item_matrix, users, items):\n",
    "    \"\"\" Create a DataFrame with the user-item matrix \"\"\"\n",
    "    df = pd.DataFrame(user_item_matrix, columns=items, index=users)\n",
    "    return df\n",
    "\n",
    "user_item_matrix_as_df(user_item_matrix, users, items)"
   ]
  },
  {
   "cell_type": "markdown",
   "metadata": {},
   "source": [
    "## 2. Singular value decomposition\n",
    "\n",
    "\n",
    "Performing Singular Value Decomposition (SVD) on the user-item matrix decomposes it into three separate matrices: U, Sigma, and Vt.\n",
    "\n",
    "The matrix U represents the relationship between users and latent features, where each row corresponds to a user and each column to a latent feature. Sigma is a diagonal matrix containing the singular values, representing the importance of each latent feature. The matrix Vt represents the relationship between items and latent features, where each row corresponds to a latent feature and each column to an item.\n",
    "\n",
    "By selecting the top k singular values and vectors, we approximate the original user-item matrix. The intuition behind this is that the first k singular values and corresponding vectors capture the most significant patterns in the data. These patterns represent the most important relationships between users, items, and latent features.\n",
    "\n",
    "Therefore, by selecting these top _k_ singular values and vectors, we can effectively reduce the dimensionality of the user-item matrix while retaining the most important information. This approximation allows us to represent the original data in a lower-dimensional space, making it more manageable and efficient for further analysis and recommendation tasks."
   ]
  },
  {
   "cell_type": "code",
   "execution_count": 19,
   "metadata": {},
   "outputs": [
    {
     "data": {
      "text/html": [
       "<div>\n",
       "<style scoped>\n",
       "    .dataframe tbody tr th:only-of-type {\n",
       "        vertical-align: middle;\n",
       "    }\n",
       "\n",
       "    .dataframe tbody tr th {\n",
       "        vertical-align: top;\n",
       "    }\n",
       "\n",
       "    .dataframe thead th {\n",
       "        text-align: right;\n",
       "    }\n",
       "</style>\n",
       "<table border=\"1\" class=\"dataframe\">\n",
       "  <thead>\n",
       "    <tr style=\"text-align: right;\">\n",
       "      <th></th>\n",
       "      <th>Terminator</th>\n",
       "      <th>Alien</th>\n",
       "      <th>Titanic</th>\n",
       "      <th>The Notebook</th>\n",
       "      <th>The Avengers</th>\n",
       "      <th>The Godfather</th>\n",
       "      <th>Jurassic Park</th>\n",
       "    </tr>\n",
       "  </thead>\n",
       "  <tbody>\n",
       "    <tr>\n",
       "      <th>John</th>\n",
       "      <td>3.29</td>\n",
       "      <td>-1.28</td>\n",
       "      <td>-0.00</td>\n",
       "      <td>1.52</td>\n",
       "      <td>3.58</td>\n",
       "      <td>-0.14</td>\n",
       "      <td>1.78</td>\n",
       "    </tr>\n",
       "    <tr>\n",
       "      <th>Alice</th>\n",
       "      <td>-0.98</td>\n",
       "      <td>3.27</td>\n",
       "      <td>0.00</td>\n",
       "      <td>0.87</td>\n",
       "      <td>-0.24</td>\n",
       "      <td>4.92</td>\n",
       "      <td>1.02</td>\n",
       "    </tr>\n",
       "    <tr>\n",
       "      <th>Sarah</th>\n",
       "      <td>-0.00</td>\n",
       "      <td>0.00</td>\n",
       "      <td>0.00</td>\n",
       "      <td>-0.00</td>\n",
       "      <td>-0.00</td>\n",
       "      <td>0.00</td>\n",
       "      <td>-0.00</td>\n",
       "    </tr>\n",
       "    <tr>\n",
       "      <th>Tom</th>\n",
       "      <td>1.14</td>\n",
       "      <td>0.24</td>\n",
       "      <td>0.00</td>\n",
       "      <td>0.84</td>\n",
       "      <td>1.43</td>\n",
       "      <td>1.11</td>\n",
       "      <td>0.98</td>\n",
       "    </tr>\n",
       "    <tr>\n",
       "      <th>Emma</th>\n",
       "      <td>3.87</td>\n",
       "      <td>0.83</td>\n",
       "      <td>0.00</td>\n",
       "      <td>2.86</td>\n",
       "      <td>4.88</td>\n",
       "      <td>3.78</td>\n",
       "      <td>3.34</td>\n",
       "    </tr>\n",
       "  </tbody>\n",
       "</table>\n",
       "</div>"
      ],
      "text/plain": [
       "       Terminator  Alien  Titanic  The Notebook  The Avengers  The Godfather  \\\n",
       "John         3.29  -1.28    -0.00          1.52          3.58          -0.14   \n",
       "Alice       -0.98   3.27     0.00          0.87         -0.24           4.92   \n",
       "Sarah       -0.00   0.00     0.00         -0.00         -0.00           0.00   \n",
       "Tom          1.14   0.24     0.00          0.84          1.43           1.11   \n",
       "Emma         3.87   0.83     0.00          2.86          4.88           3.78   \n",
       "\n",
       "       Jurassic Park  \n",
       "John            1.78  \n",
       "Alice           1.02  \n",
       "Sarah          -0.00  \n",
       "Tom             0.98  \n",
       "Emma            3.34  "
      ]
     },
     "execution_count": 19,
     "metadata": {},
     "output_type": "execute_result"
    }
   ],
   "source": [
    "# Perform Singular Value Decomposition (SVD) to get matrices U, Sigma, and Vt\n",
    "U, Sigma, Vt = np.linalg.svd(user_item_matrix)\n",
    "\n",
    "# Select the top k singular values and vectors to approximate the matrix\n",
    "k = 2                            # Number of singular values and vectors to select\n",
    "U_k = U[:, :k]                   # First k columns of U       \n",
    "Sigma_k = np.diag(Sigma[:k])     # First kxk square matrix of Sigma\n",
    "Vt_k = Vt[:k, :]                 # First k rows of Vt   \n"
   ]
  },
  {
   "cell_type": "markdown",
   "metadata": {},
   "source": [
    "## 3. Approximate the user-item matrix using the reduced SVD matrices"
   ]
  },
  {
   "cell_type": "code",
   "execution_count": 34,
   "metadata": {},
   "outputs": [
    {
     "data": {
      "text/html": [
       "<div>\n",
       "<style scoped>\n",
       "    .dataframe tbody tr th:only-of-type {\n",
       "        vertical-align: middle;\n",
       "    }\n",
       "\n",
       "    .dataframe tbody tr th {\n",
       "        vertical-align: top;\n",
       "    }\n",
       "\n",
       "    .dataframe thead th {\n",
       "        text-align: right;\n",
       "    }\n",
       "</style>\n",
       "<table border=\"1\" class=\"dataframe\">\n",
       "  <thead>\n",
       "    <tr style=\"text-align: right;\">\n",
       "      <th></th>\n",
       "      <th>Terminator</th>\n",
       "      <th>Alien</th>\n",
       "      <th>Titanic</th>\n",
       "      <th>The Notebook</th>\n",
       "      <th>The Avengers</th>\n",
       "      <th>The Godfather</th>\n",
       "      <th>Jurassic Park</th>\n",
       "    </tr>\n",
       "  </thead>\n",
       "  <tbody>\n",
       "    <tr>\n",
       "      <th>John</th>\n",
       "      <td>3.29</td>\n",
       "      <td>-1.28</td>\n",
       "      <td>-0.00</td>\n",
       "      <td>1.52</td>\n",
       "      <td>3.58</td>\n",
       "      <td>-0.14</td>\n",
       "      <td>1.78</td>\n",
       "    </tr>\n",
       "    <tr>\n",
       "      <th>Alice</th>\n",
       "      <td>-0.98</td>\n",
       "      <td>3.27</td>\n",
       "      <td>0.00</td>\n",
       "      <td>0.87</td>\n",
       "      <td>-0.24</td>\n",
       "      <td>4.92</td>\n",
       "      <td>1.02</td>\n",
       "    </tr>\n",
       "    <tr>\n",
       "      <th>Sarah</th>\n",
       "      <td>-0.00</td>\n",
       "      <td>0.00</td>\n",
       "      <td>0.00</td>\n",
       "      <td>-0.00</td>\n",
       "      <td>-0.00</td>\n",
       "      <td>0.00</td>\n",
       "      <td>-0.00</td>\n",
       "    </tr>\n",
       "    <tr>\n",
       "      <th>Tom</th>\n",
       "      <td>1.14</td>\n",
       "      <td>0.24</td>\n",
       "      <td>0.00</td>\n",
       "      <td>0.84</td>\n",
       "      <td>1.43</td>\n",
       "      <td>1.11</td>\n",
       "      <td>0.98</td>\n",
       "    </tr>\n",
       "    <tr>\n",
       "      <th>Emma</th>\n",
       "      <td>3.87</td>\n",
       "      <td>0.83</td>\n",
       "      <td>0.00</td>\n",
       "      <td>2.86</td>\n",
       "      <td>4.88</td>\n",
       "      <td>3.78</td>\n",
       "      <td>3.34</td>\n",
       "    </tr>\n",
       "  </tbody>\n",
       "</table>\n",
       "</div>"
      ],
      "text/plain": [
       "       Terminator  Alien  Titanic  The Notebook  The Avengers  The Godfather  \\\n",
       "John         3.29  -1.28    -0.00          1.52          3.58          -0.14   \n",
       "Alice       -0.98   3.27     0.00          0.87         -0.24           4.92   \n",
       "Sarah       -0.00   0.00     0.00         -0.00         -0.00           0.00   \n",
       "Tom          1.14   0.24     0.00          0.84          1.43           1.11   \n",
       "Emma         3.87   0.83     0.00          2.86          4.88           3.78   \n",
       "\n",
       "       Jurassic Park  \n",
       "John            1.78  \n",
       "Alice           1.02  \n",
       "Sarah          -0.00  \n",
       "Tom             0.98  \n",
       "Emma            3.34  "
      ]
     },
     "execution_count": 34,
     "metadata": {},
     "output_type": "execute_result"
    }
   ],
   "source": [
    "# Approximate the user-item matrix using the reduced SVD matrices\n",
    "user_item_matrix_approx = np.dot(np.dot(U_k, Sigma_k), Vt_k)\n",
    "\n",
    "# Make it a pandas dataframe for easy visualization\n",
    "user_item_matrix_as_df(user_item_matrix_approx, users, items)"
   ]
  },
  {
   "cell_type": "markdown",
   "metadata": {},
   "source": [
    "## 4. What are the predicted ratings for  John?"
   ]
  },
  {
   "cell_type": "code",
   "execution_count": 29,
   "metadata": {},
   "outputs": [
    {
     "name": "stdout",
     "output_type": "stream",
     "text": [
      "John's original ratings:      [5 0 0 0 4 0 0]\n",
      "Recommended ratings for John: [3.29, -1.28, -0.0, 1.52, 3.58, -0.14, 1.78]\n"
     ]
    }
   ],
   "source": [
    "# Recommend items for a specific user (e.g., John)\n",
    "user = \"John\"\n",
    "user_index = users.index(user)    #get the index of the user\n",
    "\n",
    "john_ratings = user_item_matrix[user_index]\n",
    "recommended_ratings = user_item_matrix_approx[user_index]\n",
    "\n",
    "# Print recommended ratings for John\n",
    "print(\"John's original ratings:     \", john_ratings)\n",
    "print(\"Recommended ratings for John:\", [round(rating, 2) for rating in recommended_ratings])\n"
   ]
  },
  {
   "cell_type": "markdown",
   "metadata": {},
   "source": [
    "## 5. Let's make recommendations"
   ]
  },
  {
   "cell_type": "code",
   "execution_count": 31,
   "metadata": {},
   "outputs": [
    {
     "data": {
      "text/plain": [
       "[('Jurassic Park', 1.78),\n",
       " ('The Notebook', 1.52),\n",
       " ('Titanic', -0.0),\n",
       " ('The Godfather', -0.14),\n",
       " ('Alien', -1.28)]"
      ]
     },
     "execution_count": 31,
     "metadata": {},
     "output_type": "execute_result"
    }
   ],
   "source": [
    "# get the pairs: (item, rating) for the items that John has not rated\n",
    "recommended_items = [(items[i], round(recommended_ratings[i], 2)) for i in range(len(items)) if john_ratings[i] == 0]\n",
    "# Sort the list by rating in descending order\n",
    "recommended_items = sorted(recommended_items, key=lambda x: x[1], reverse=True)\n",
    "recommended_items"
   ]
  },
  {
   "cell_type": "markdown",
   "metadata": {},
   "source": [
    "### Does it make sense?"
   ]
  },
  {
   "cell_type": "code",
   "execution_count": 33,
   "metadata": {},
   "outputs": [
    {
     "data": {
      "text/html": [
       "<div>\n",
       "<style scoped>\n",
       "    .dataframe tbody tr th:only-of-type {\n",
       "        vertical-align: middle;\n",
       "    }\n",
       "\n",
       "    .dataframe tbody tr th {\n",
       "        vertical-align: top;\n",
       "    }\n",
       "\n",
       "    .dataframe thead th {\n",
       "        text-align: right;\n",
       "    }\n",
       "</style>\n",
       "<table border=\"1\" class=\"dataframe\">\n",
       "  <thead>\n",
       "    <tr style=\"text-align: right;\">\n",
       "      <th></th>\n",
       "      <th>Terminator</th>\n",
       "      <th>Alien</th>\n",
       "      <th>Titanic</th>\n",
       "      <th>The Notebook</th>\n",
       "      <th>The Avengers</th>\n",
       "      <th>The Godfather</th>\n",
       "      <th>Jurassic Park</th>\n",
       "    </tr>\n",
       "  </thead>\n",
       "  <tbody>\n",
       "    <tr>\n",
       "      <th>John</th>\n",
       "      <td>5</td>\n",
       "      <td>0</td>\n",
       "      <td>0</td>\n",
       "      <td>0</td>\n",
       "      <td>4</td>\n",
       "      <td>0</td>\n",
       "      <td>0</td>\n",
       "    </tr>\n",
       "    <tr>\n",
       "      <th>Alice</th>\n",
       "      <td>0</td>\n",
       "      <td>4</td>\n",
       "      <td>0</td>\n",
       "      <td>0</td>\n",
       "      <td>0</td>\n",
       "      <td>5</td>\n",
       "      <td>0</td>\n",
       "    </tr>\n",
       "    <tr>\n",
       "      <th>Sarah</th>\n",
       "      <td>0</td>\n",
       "      <td>0</td>\n",
       "      <td>5</td>\n",
       "      <td>0</td>\n",
       "      <td>0</td>\n",
       "      <td>0</td>\n",
       "      <td>0</td>\n",
       "    </tr>\n",
       "    <tr>\n",
       "      <th>Tom</th>\n",
       "      <td>0</td>\n",
       "      <td>0</td>\n",
       "      <td>0</td>\n",
       "      <td>4</td>\n",
       "      <td>0</td>\n",
       "      <td>0</td>\n",
       "      <td>3</td>\n",
       "    </tr>\n",
       "    <tr>\n",
       "      <th>Emma</th>\n",
       "      <td>3</td>\n",
       "      <td>0</td>\n",
       "      <td>0</td>\n",
       "      <td>3</td>\n",
       "      <td>5</td>\n",
       "      <td>4</td>\n",
       "      <td>4</td>\n",
       "    </tr>\n",
       "  </tbody>\n",
       "</table>\n",
       "</div>"
      ],
      "text/plain": [
       "       Terminator  Alien  Titanic  The Notebook  The Avengers  The Godfather  \\\n",
       "John            5      0        0             0             4              0   \n",
       "Alice           0      4        0             0             0              5   \n",
       "Sarah           0      0        5             0             0              0   \n",
       "Tom             0      0        0             4             0              0   \n",
       "Emma            3      0        0             3             5              4   \n",
       "\n",
       "       Jurassic Park  \n",
       "John               0  \n",
       "Alice              0  \n",
       "Sarah              0  \n",
       "Tom                3  \n",
       "Emma               4  "
      ]
     },
     "execution_count": 33,
     "metadata": {},
     "output_type": "execute_result"
    }
   ],
   "source": [
    "# print the input matrix once again\n",
    "user_item_matrix_as_df(user_item_matrix, users, items)"
   ]
  },
  {
   "cell_type": "code",
   "execution_count": null,
   "metadata": {},
   "outputs": [],
   "source": []
  }
 ],
 "metadata": {
  "kernelspec": {
   "display_name": "dm",
   "language": "python",
   "name": "python3"
  },
  "language_info": {
   "codemirror_mode": {
    "name": "ipython",
    "version": 3
   },
   "file_extension": ".py",
   "mimetype": "text/x-python",
   "name": "python",
   "nbconvert_exporter": "python",
   "pygments_lexer": "ipython3",
   "version": "3.11.7"
  }
 },
 "nbformat": 4,
 "nbformat_minor": 2
}
